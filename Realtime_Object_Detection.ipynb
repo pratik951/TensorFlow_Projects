{
 "cells": [
  {
   "cell_type": "code",
   "execution_count": 7,
   "id": "87f1dc51",
   "metadata": {},
   "outputs": [],
   "source": [
    "import os\n",
    "import cv2\n",
    "import time\n",
    "import uuid"
   ]
  },
  {
   "cell_type": "code",
   "execution_count": 8,
   "id": "08f2c92b",
   "metadata": {},
   "outputs": [],
   "source": [
    "labels = ['hello', 'thanks', 'yes', 'no', 'iloveyou']  # List of labels\n",
    "number_imgs = 15   # Number of images to collect per label\n",
    "IMAGES_PATH = 'C:\\\\Users\\\\pratik\\\\RealTimeObjectDetection\\\\Tensorflow\\\\workspace'  # Set the correct path here"
   ]
  },
  {
   "cell_type": "code",
   "execution_count": 9,
   "id": "52d70d2d",
   "metadata": {
    "collapsed": true
   },
   "outputs": [
    {
     "name": "stdout",
     "output_type": "stream",
     "text": [
      "Collecting images for hello\n",
      "Saved image: C:\\Users\\pratik\\RealTimeObjectDetection\\Tensorflow\\workspace\\hello\\9e2bd860-f6f1-11ed-a78f-cdeb719416bd.jpg\n",
      "Saved image: C:\\Users\\pratik\\RealTimeObjectDetection\\Tensorflow\\workspace\\hello\\9f6a9bba-f6f1-11ed-934b-cdeb719416bd.jpg\n",
      "Saved image: C:\\Users\\pratik\\RealTimeObjectDetection\\Tensorflow\\workspace\\hello\\a0a40eac-f6f1-11ed-9a8f-cdeb719416bd.jpg\n",
      "Saved image: C:\\Users\\pratik\\RealTimeObjectDetection\\Tensorflow\\workspace\\hello\\a1db347e-f6f1-11ed-a37b-cdeb719416bd.jpg\n",
      "Saved image: C:\\Users\\pratik\\RealTimeObjectDetection\\Tensorflow\\workspace\\hello\\a320559a-f6f1-11ed-952a-cdeb719416bd.jpg\n",
      "Saved image: C:\\Users\\pratik\\RealTimeObjectDetection\\Tensorflow\\workspace\\hello\\a45a9c83-f6f1-11ed-8d9d-cdeb719416bd.jpg\n",
      "Saved image: C:\\Users\\pratik\\RealTimeObjectDetection\\Tensorflow\\workspace\\hello\\a58fee60-f6f1-11ed-bdd5-cdeb719416bd.jpg\n",
      "Saved image: C:\\Users\\pratik\\RealTimeObjectDetection\\Tensorflow\\workspace\\hello\\a6c586d4-f6f1-11ed-9b9a-cdeb719416bd.jpg\n",
      "Saved image: C:\\Users\\pratik\\RealTimeObjectDetection\\Tensorflow\\workspace\\hello\\a7fd037d-f6f1-11ed-8f79-cdeb719416bd.jpg\n",
      "Saved image: C:\\Users\\pratik\\RealTimeObjectDetection\\Tensorflow\\workspace\\hello\\a9332023-f6f1-11ed-8159-cdeb719416bd.jpg\n",
      "Saved image: C:\\Users\\pratik\\RealTimeObjectDetection\\Tensorflow\\workspace\\hello\\aa684775-f6f1-11ed-aeb4-cdeb719416bd.jpg\n",
      "Saved image: C:\\Users\\pratik\\RealTimeObjectDetection\\Tensorflow\\workspace\\hello\\ab9fac53-f6f1-11ed-afbf-cdeb719416bd.jpg\n"
     ]
    },
    {
     "ename": "KeyboardInterrupt",
     "evalue": "",
     "output_type": "error",
     "traceback": [
      "\u001b[1;31m---------------------------------------------------------------------------\u001b[0m",
      "\u001b[1;31mKeyboardInterrupt\u001b[0m                         Traceback (most recent call last)",
      "\u001b[1;32m~\\AppData\\Local\\Temp/ipykernel_15120/2428792714.py\u001b[0m in \u001b[0;36m<module>\u001b[1;34m\u001b[0m\n\u001b[0;32m     18\u001b[0m         \u001b[0mprint\u001b[0m\u001b[1;33m(\u001b[0m\u001b[1;34m'Saved image:'\u001b[0m\u001b[1;33m,\u001b[0m \u001b[0mimgname\u001b[0m\u001b[1;33m)\u001b[0m\u001b[1;33m\u001b[0m\u001b[1;33m\u001b[0m\u001b[0m\n\u001b[0;32m     19\u001b[0m         \u001b[0mcv2\u001b[0m\u001b[1;33m.\u001b[0m\u001b[0mimshow\u001b[0m\u001b[1;33m(\u001b[0m\u001b[1;34m'frame'\u001b[0m\u001b[1;33m,\u001b[0m \u001b[0mframe\u001b[0m\u001b[1;33m)\u001b[0m\u001b[1;33m\u001b[0m\u001b[1;33m\u001b[0m\u001b[0m\n\u001b[1;32m---> 20\u001b[1;33m         \u001b[0mtime\u001b[0m\u001b[1;33m.\u001b[0m\u001b[0msleep\u001b[0m\u001b[1;33m(\u001b[0m\u001b[1;36m2\u001b[0m\u001b[1;33m)\u001b[0m\u001b[1;33m\u001b[0m\u001b[1;33m\u001b[0m\u001b[0m\n\u001b[0m\u001b[0;32m     21\u001b[0m \u001b[1;33m\u001b[0m\u001b[0m\n\u001b[0;32m     22\u001b[0m         \u001b[1;32mif\u001b[0m \u001b[0mcv2\u001b[0m\u001b[1;33m.\u001b[0m\u001b[0mwaitKey\u001b[0m\u001b[1;33m(\u001b[0m\u001b[1;36m1\u001b[0m\u001b[1;33m)\u001b[0m \u001b[1;33m&\u001b[0m \u001b[1;36m0xFF\u001b[0m \u001b[1;33m==\u001b[0m \u001b[0mord\u001b[0m\u001b[1;33m(\u001b[0m\u001b[1;34m'q'\u001b[0m\u001b[1;33m)\u001b[0m\u001b[1;33m:\u001b[0m\u001b[1;33m\u001b[0m\u001b[1;33m\u001b[0m\u001b[0m\n",
      "\u001b[1;31mKeyboardInterrupt\u001b[0m: "
     ]
    }
   ],
   "source": [
    "for label in labels:\n",
    "    label_dir = os.path.join(IMAGES_PATH, label)\n",
    "    if not os.path.exists(label_dir):\n",
    "        os.makedirs(label_dir)\n",
    "    \n",
    "    cap = cv2.VideoCapture(0)\n",
    "    print('Collecting images for {}'.format(label))\n",
    "    time.sleep(5)\n",
    "    \n",
    "    for imgnum in range(number_imgs):\n",
    "        ret, frame = cap.read()\n",
    "        if not ret:\n",
    "            print('Error capturing frame')\n",
    "            break\n",
    "        \n",
    "        imgname = os.path.join(label_dir, '{}.jpg'.format(str(uuid.uuid1())))\n",
    "        cv2.imwrite(imgname, frame)\n",
    "        print('Saved image:', imgname)\n",
    "        cv2.imshow('frame', frame)\n",
    "        time.sleep(2)\n",
    "\n",
    "        if cv2.waitKey(1) & 0xFF == ord('q'):\n",
    "            break\n",
    "    \n",
    "    cap.release()\n",
    "    cv2.destroyAllWindows()\n"
   ]
  },
  {
   "cell_type": "code",
   "execution_count": null,
   "id": "62a4bcc3",
   "metadata": {},
   "outputs": [],
   "source": []
  }
 ],
 "metadata": {
  "kernelspec": {
   "display_name": "Python 3 (ipykernel)",
   "language": "python",
   "name": "python3"
  },
  "language_info": {
   "codemirror_mode": {
    "name": "ipython",
    "version": 3
   },
   "file_extension": ".py",
   "mimetype": "text/x-python",
   "name": "python",
   "nbconvert_exporter": "python",
   "pygments_lexer": "ipython3",
   "version": "3.9.7"
  }
 },
 "nbformat": 4,
 "nbformat_minor": 5
}
